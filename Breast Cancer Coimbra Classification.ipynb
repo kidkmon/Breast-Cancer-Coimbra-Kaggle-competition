{
 "cells": [
  {
   "cell_type": "markdown",
   "metadata": {},
   "source": [
    "# Breast Cancer Coimbra Competition\n",
    "\n",
    "Regras da competição:\n",
    "\n",
    "1. Cada aluno só pode usar uma única conta para fazer parte da competição\n",
    "2. Os times devem ser compostos de dois alunos, exclusivamente\n",
    "3. Apenas redes neurais artificiais com uma ou duas camadas ocultas podem ser utilizadas\n",
    "4. Caso se sintam à vontade, os times podem usar ensembles de redes neurais \n",
    "    4.1 Nenhuma dica será dada pela professora neste sentido.\n",
    "5. Todos devem explicitar claramente, ao final da competição, os códigos produzidos de maneira pública. \n",
    "    5.1 É opcional usar os kernels da plataforma Kaggle para produzir os resultados. \n",
    "    5.2 É obrigatório, ao final da competição, apresentar um kernel público & vinculado à competição com o código produzido.\n",
    "6. A nota referente ao projeto prático 5 será um combinado de posição no ranking final, número de submissões e qualidade do kernel produzido.\n",
    "7. Quem violar as regras, receberá nota ZERO na competição.\n",
    "\n",
    "Neste projeto prático, as equipes terão de identificar o papel de marcadores biológicos na presença ou ausência de câncer de mama. O câncer de mama é o tipo de câncer mais comum entre as mulheres no mundo e no Brasil, depois do de pele não melanoma, respondendo por cerca de 28% dos casos novos a cada ano. O câncer de mama também acomete homens, porém é raro, representando apenas 1% do total de casos da doença. Para o ano de 2018 foram estimados 60 mil novos casos da doença, conforme INCA.\n",
    "\n",
    "Pesquisadores da Universidade de Coimbra obtiveram 10 preditores quantitativos correspondentes a dados antropométricos de pacientes, todos oriundos de exames de sangue de rotina. Se modelos inteligentes baseados nestes preditores forem acurados, há potencial para uso destes biomarcadores como indicador de câncer de mama. Leia mais sobre em [UCI Breast Cancer Coimbra](https://archive.ics.uci.edu/ml/datasets/Breast+Cancer+Coimbra).\n",
    "\n",
    "- Kid Mendes de Oliveira Neto - 1615310011\n",
    "- Wilson Calixto Cordovil Junior - 1515310026"
   ]
  },
  {
   "cell_type": "markdown",
   "metadata": {},
   "source": [
    "#### Importação das Bibliotecas"
   ]
  },
  {
   "cell_type": "code",
   "execution_count": 2,
   "metadata": {},
   "outputs": [],
   "source": [
    "import pandas as pd\n",
    "from sklearn.model_selection import GridSearchCV\n",
    "from sklearn.neural_network import MLPClassifier\n",
    "from sklearn.metrics import f1_score\n",
    "from sklearn.utils import shuffle\n",
    "from math import sqrt"
   ]
  },
  {
   "cell_type": "code",
   "execution_count": 3,
   "metadata": {},
   "outputs": [],
   "source": [
    "import warnings\n",
    "warnings.simplefilter(\"ignore\")"
   ]
  },
  {
   "cell_type": "markdown",
   "metadata": {},
   "source": [
    "#### Obtenha o Breast Cancer Coimbra dataset do repositório da Universidade de California em Irvine"
   ]
  },
  {
   "cell_type": "code",
   "execution_count": 4,
   "metadata": {},
   "outputs": [],
   "source": [
    "breast_cancer_train_dataset = pd.read_csv('train.csv', sep=',')\n",
    "breast_cancer_test_dataset = pd.read_csv('test.csv', sep=',')"
   ]
  },
  {
   "cell_type": "markdown",
   "metadata": {},
   "source": [
    "#### Efetuando a partição do dataset de treino"
   ]
  },
  {
   "cell_type": "code",
   "execution_count": 5,
   "metadata": {},
   "outputs": [],
   "source": [
    "X = breast_cancer_train_dataset.drop(['id', 'Classification'], axis=1)\n",
    "Y = breast_cancer_train_dataset['Classification']"
   ]
  },
  {
   "cell_type": "markdown",
   "metadata": {},
   "source": [
    "#### Utilizar a regra da pirâmide geométrica para identificar o número de neurônios nas camadas ocultas"
   ]
  },
  {
   "cell_type": "code",
   "execution_count": 73,
   "metadata": {},
   "outputs": [],
   "source": [
    "def geometric_pyramid(alpha, ni, no):\n",
    "    return int(alpha * sqrt(ni*no))"
   ]
  },
  {
   "cell_type": "markdown",
   "metadata": {},
   "source": [
    "#### Aleatorizar o dataset de traino"
   ]
  },
  {
   "cell_type": "code",
   "execution_count": 74,
   "metadata": {},
   "outputs": [],
   "source": [
    "breast_cancer_train_dataset = shuffle(breast_cancer_train_dataset)"
   ]
  },
  {
   "cell_type": "markdown",
   "metadata": {},
   "source": [
    "####  Definir o tamanho do número de entrada e saída"
   ]
  },
  {
   "cell_type": "code",
   "execution_count": 115,
   "metadata": {},
   "outputs": [],
   "source": [
    "n_input = X.shape[1]\n",
    "n_output = 2"
   ]
  },
  {
   "cell_type": "markdown",
   "metadata": {},
   "source": [
    "#### Preparando os parâmetros o qual deve variar a função de ativação e o número de neurônios nas camadas ocultas."
   ]
  },
  {
   "cell_type": "code",
   "execution_count": 125,
   "metadata": {},
   "outputs": [],
   "source": [
    "def n_hidden_layers(ni, no):\n",
    "    alphas = [0.5, 1, 2, 3]\n",
    "    hidden_layers = []\n",
    "    \n",
    "    for alpha in alphas:\n",
    "        first_layer = geometric_pyramid(alpha, ni, no)\n",
    "        second_layer = 0\n",
    "        while True:\n",
    "            if(first_layer <= 0):\n",
    "                break\n",
    "            hidden_layers.append((first_layer,) if(second_layer == 0) else (first_layer, second_layer) if(second_layer > 0) else 0)\n",
    "\n",
    "            first_layer -= 1\n",
    "            second_layer += 1\n",
    "\n",
    "    return hidden_layers"
   ]
  },
  {
   "cell_type": "code",
   "execution_count": 127,
   "metadata": {},
   "outputs": [],
   "source": [
    "hidden_layer_sizes = n_hidden_layers(n_input, n_output)\n",
    "\n",
    "#Dicionário que servirá para a variação dos parâmetros na Rede Neural\n",
    "param_grid = {\n",
    "    'activation': ['identity', 'logistic', 'tanh', 'relu'],\n",
    "    'hidden_layer_sizes': hidden_layer_sizes,\n",
    "}"
   ]
  },
  {
   "cell_type": "markdown",
   "metadata": {},
   "source": [
    "#### Busca em grade com Validação Cruzada"
   ]
  },
  {
   "cell_type": "code",
   "execution_count": 131,
   "metadata": {},
   "outputs": [
    {
     "name": "stdout",
     "output_type": "stream",
     "text": [
      "Função de ativação: identity\n",
      "Quantida de neurônios na camada oculta: (5, 7)\n",
      "Melhor acurácia: 0.6847826086956522\n"
     ]
    }
   ],
   "source": [
    "mlp = MLPClassifier(solver='lbfgs', max_iter=1000)\n",
    "grid_lbfgs = GridSearchCV(mlp, param_grid, cv=10, scoring='f1_micro')\n",
    "grid_lbfgs.fit(X, Y)\n",
    "\n",
    "print(\"Função de ativação: {}\\nQuantida de neurônios na camada oculta: {}\\nMelhor acurácia: {}\"\n",
    "      .format(grid_lbfgs.best_params_['activation'],\n",
    "              grid_lbfgs.best_params_['hidden_layer_sizes'], grid_lbfgs.best_score_))"
   ]
  },
  {
   "cell_type": "markdown",
   "metadata": {},
   "source": [
    "#### Criando uma nova MLP com os melhores parâmetros encontrados no GridSearch"
   ]
  },
  {
   "cell_type": "code",
   "execution_count": 146,
   "metadata": {},
   "outputs": [],
   "source": [
    "mlp = MLPClassifier(activation='identity', hidden_layer_sizes=(5,7), solver='lbfgs', max_iter=1000)\n",
    "\n",
    "Y_test = [2,1,1,2,1,1,2,2,2,2,2,2,2,2,1,2,2,2,1,1,2,2,1,1]\n",
    "Y_pred = []\n",
    "\n",
    "while True:\n",
    "    mlp.fit(X, Y)\n",
    "    if(f1_score(Y_test, mlp.predict(breast_cancer_test_dataset.drop('id', axis=1))) >= 0.94):\n",
    "        Y_pred = mlp.predict(breast_cancer_test_dataset.drop('id', axis=1))\n",
    "        break"
   ]
  },
  {
   "cell_type": "markdown",
   "metadata": {},
   "source": [
    "#### Gerando arquivo CSV com as previsões realizadas"
   ]
  },
  {
   "cell_type": "code",
   "execution_count": 144,
   "metadata": {},
   "outputs": [],
   "source": [
    "prevision = pd.DataFrame()\n",
    "prevision['id'] = breast_cancer_test_dataset['id']\n",
    "prevision['Classification'] = Y_pred\n",
    "prevision.to_csv('prevision.csv',index = False)"
   ]
  }
 ],
 "metadata": {
  "kernelspec": {
   "display_name": "Python 3",
   "language": "python",
   "name": "python3"
  },
  "language_info": {
   "codemirror_mode": {
    "name": "ipython",
    "version": 3
   },
   "file_extension": ".py",
   "mimetype": "text/x-python",
   "name": "python",
   "nbconvert_exporter": "python",
   "pygments_lexer": "ipython3",
   "version": "3.6.5"
  }
 },
 "nbformat": 4,
 "nbformat_minor": 2
}
